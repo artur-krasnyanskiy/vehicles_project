{
 "cells": [
  {
   "attachments": {},
   "cell_type": "markdown",
   "metadata": {},
   "source": [
    "## Vehicle project EDA"
   ]
  },
  {
   "attachments": {},
   "cell_type": "markdown",
   "metadata": {},
   "source": [
    "### Introduction\n",
    "\n",
    "In this section we will perfom eploratory data analysis for the vehicle_project app."
   ]
  },
  {
   "attachments": {},
   "cell_type": "markdown",
   "metadata": {},
   "source": [
    "### Steps:\n",
    "\n",
    "1. Data overview\n",
    "2. Data preprocessing\n",
    "3. Findings"
   ]
  },
  {
   "attachments": {},
   "cell_type": "markdown",
   "metadata": {},
   "source": [
    "#### 1. Data overview"
   ]
  },
  {
   "cell_type": "code",
   "execution_count": 1,
   "metadata": {},
   "outputs": [],
   "source": [
    "#importing pandas\n",
    "import pandas as pd\n"
   ]
  },
  {
   "cell_type": "code",
   "execution_count": 3,
   "metadata": {},
   "outputs": [
    {
     "name": "stdout",
     "output_type": "stream",
     "text": [
      "<class 'pandas.core.frame.DataFrame'>\n",
      "RangeIndex: 51525 entries, 0 to 51524\n",
      "Data columns (total 13 columns):\n",
      " #   Column        Non-Null Count  Dtype  \n",
      "---  ------        --------------  -----  \n",
      " 0   price         51525 non-null  int64  \n",
      " 1   model_year    47906 non-null  float64\n",
      " 2   model         51525 non-null  object \n",
      " 3   condition     51525 non-null  object \n",
      " 4   cylinders     46265 non-null  float64\n",
      " 5   fuel          51525 non-null  object \n",
      " 6   odometer      43633 non-null  float64\n",
      " 7   transmission  51525 non-null  object \n",
      " 8   type          51525 non-null  object \n",
      " 9   paint_color   42258 non-null  object \n",
      " 10  is_4wd        25572 non-null  float64\n",
      " 11  date_posted   51525 non-null  object \n",
      " 12  days_listed   51525 non-null  int64  \n",
      "dtypes: float64(4), int64(2), object(7)\n",
      "memory usage: 5.1+ MB\n",
      "None\n"
     ]
    }
   ],
   "source": [
    "#reading vehicles_us file and storing it to vehicles df\n",
    "vehicles = pd.read_csv('~/Notebooks/vehicles_project/vehicles_us.csv', na_values=[])\n",
    "\n",
    "#obtaining general info\n",
    "print(vehicles.info())"
   ]
  },
  {
   "attachments": {},
   "cell_type": "markdown",
   "metadata": {},
   "source": []
  },
  {
   "attachments": {},
   "cell_type": "markdown",
   "metadata": {},
   "source": [
    "Note: there're colums with missing values, we will need to check whether it's critical for analysis. We will also need to check the data against duplicate values."
   ]
  },
  {
   "cell_type": "code",
   "execution_count": 4,
   "metadata": {},
   "outputs": [
    {
     "name": "stdout",
     "output_type": "stream",
     "text": [
      "       price  model_year                         model  condition  cylinders  \\\n",
      "37291   8995      2014.0               chevrolet cruze  excellent        4.0   \n",
      "49059  21995         NaN                 jeep wrangler       good        6.0   \n",
      "22831  14980      2012.0                    ford f-150  excellent        6.0   \n",
      "47247  10300      2010.0                 toyota tacoma   like new        4.0   \n",
      "38394   7950      2009.0                subaru outback  excellent        4.0   \n",
      "23992  10950      2011.0                  jeep liberty  excellent        6.0   \n",
      "31597   5500      2012.0                toyota corolla  excellent        4.0   \n",
      "37509  21450      2008.0                      ram 3500   like new        6.0   \n",
      "13201  10370      1994.0              chevrolet camaro       good        8.0   \n",
      "47883  19700      2017.0  chevrolet camaro lt coupe 2d       good        6.0   \n",
      "\n",
      "         fuel  odometer transmission    type paint_color  is_4wd date_posted  \\\n",
      "37291     gas   83567.0    automatic   sedan         NaN     NaN  2019-04-16   \n",
      "49059     gas   43128.0        other     SUV         NaN     1.0  2019-03-04   \n",
      "22831     gas  140123.0    automatic  pickup         red     1.0  2018-06-20   \n",
      "47247     gas   43000.0       manual  pickup         NaN     NaN  2018-11-22   \n",
      "38394     gas  102276.0    automatic   wagon        grey     1.0  2018-06-24   \n",
      "23992     gas  101709.0    automatic     SUV       black     1.0  2019-01-17   \n",
      "31597     gas   80700.0    automatic   sedan         NaN     NaN  2018-12-31   \n",
      "37509  diesel  159783.0    automatic   truck         red     1.0  2018-10-28   \n",
      "13201     gas   32398.0        other   coupe       white     NaN  2018-06-24   \n",
      "47883     gas   35807.0        other   coupe       black     NaN  2018-11-25   \n",
      "\n",
      "       days_listed  \n",
      "37291           39  \n",
      "49059           29  \n",
      "22831           30  \n",
      "47247           74  \n",
      "38394           86  \n",
      "23992           51  \n",
      "31597            6  \n",
      "37509           12  \n",
      "13201           17  \n",
      "47883           14  \n"
     ]
    }
   ],
   "source": [
    "print(vehicles.sample(10))"
   ]
  },
  {
   "attachments": {},
   "cell_type": "markdown",
   "metadata": {},
   "source": [
    "#### 2. Data preprocessing"
   ]
  },
  {
   "attachments": {},
   "cell_type": "markdown",
   "metadata": {},
   "source": [
    "##### 2.1 Duplicate values"
   ]
  },
  {
   "cell_type": "code",
   "execution_count": 5,
   "metadata": {},
   "outputs": [
    {
     "data": {
      "text/plain": [
       "0"
      ]
     },
     "execution_count": 5,
     "metadata": {},
     "output_type": "execute_result"
    }
   ],
   "source": [
    "#Check for obvious duplicates\n",
    "vehicles.duplicated().sum()"
   ]
  },
  {
   "attachments": {},
   "cell_type": "markdown",
   "metadata": {},
   "source": [
    "Note: there are no duplicate values in the dataset."
   ]
  },
  {
   "attachments": {},
   "cell_type": "markdown",
   "metadata": {},
   "source": [
    "##### 2.2 Missing values"
   ]
  },
  {
   "cell_type": "code",
   "execution_count": null,
   "metadata": {},
   "outputs": [
    {
     "name": "stdout",
     "output_type": "stream",
     "text": [
      "<class 'pandas.core.frame.DataFrame'>\n",
      "RangeIndex: 51525 entries, 0 to 51524\n",
      "Data columns (total 13 columns):\n",
      " #   Column        Non-Null Count  Dtype  \n",
      "---  ------        --------------  -----  \n",
      " 0   price         51525 non-null  int64  \n",
      " 1   model_year    47906 non-null  float64\n",
      " 2   model         51525 non-null  object \n",
      " 3   condition     51525 non-null  object \n",
      " 4   cylinders     46265 non-null  float64\n",
      " 5   fuel          51525 non-null  object \n",
      " 6   odometer      43633 non-null  float64\n",
      " 7   transmission  51525 non-null  object \n",
      " 8   type          51525 non-null  object \n",
      " 9   paint_color   42258 non-null  object \n",
      " 10  is_4wd        25572 non-null  float64\n",
      " 11  date_posted   51525 non-null  object \n",
      " 12  days_listed   51525 non-null  int64  \n",
      "dtypes: float64(4), int64(2), object(7)\n",
      "memory usage: 5.1+ MB\n",
      "None\n"
     ]
    }
   ],
   "source": [
    "#reading vehicles_us file and storing it to vehicles df\n",
    "vehicles = pd.read_csv('~/Notebooks/vehicles_project/vehicles_us.csv')\n",
    "\n",
    "#obtaining general info\n",
    "print(vehicles.info())"
   ]
  },
  {
   "cell_type": "code",
   "execution_count": 12,
   "metadata": {},
   "outputs": [
    {
     "name": "stdout",
     "output_type": "stream",
     "text": [
      "[ 1. nan]\n"
     ]
    }
   ],
   "source": [
    "print(vehicles['is_4wd'].unique())"
   ]
  },
  {
   "cell_type": "code",
   "execution_count": 11,
   "metadata": {},
   "outputs": [
    {
     "name": "stdout",
     "output_type": "stream",
     "text": [
      "[2011.   nan 2013. 2003. 2017. 2014. 2015. 2012. 2008. 2018. 2009. 2010.\n",
      " 2007. 2004. 2005. 2001. 2006. 1966. 1994. 2019. 2000. 2016. 1993. 1999.\n",
      " 1997. 2002. 1981. 1995. 1996. 1975. 1998. 1985. 1977. 1987. 1974. 1990.\n",
      " 1992. 1991. 1972. 1967. 1988. 1969. 1989. 1978. 1965. 1979. 1968. 1986.\n",
      " 1980. 1964. 1963. 1984. 1982. 1973. 1970. 1955. 1971. 1976. 1983. 1954.\n",
      " 1962. 1948. 1960. 1908. 1961. 1936. 1949. 1958. 1929.]\n"
     ]
    }
   ],
   "source": [
    "print(vehicles['model_year'].unique())"
   ]
  },
  {
   "cell_type": "code",
   "execution_count": 13,
   "metadata": {},
   "outputs": [
    {
     "name": "stdout",
     "output_type": "stream",
     "text": [
      "[ 6.  4.  8. nan  5. 10.  3. 12.]\n"
     ]
    }
   ],
   "source": [
    "print(vehicles['cylinders'].unique())"
   ]
  },
  {
   "cell_type": "code",
   "execution_count": 16,
   "metadata": {},
   "outputs": [
    {
     "name": "stdout",
     "output_type": "stream",
     "text": [
      "[nan]\n"
     ]
    }
   ],
   "source": [
    "print(vehicles[vehicles['odometer'].isna() == True]['odometer'].unique())"
   ]
  },
  {
   "cell_type": "code",
   "execution_count": 17,
   "metadata": {},
   "outputs": [
    {
     "name": "stdout",
     "output_type": "stream",
     "text": [
      "[nan]\n"
     ]
    }
   ],
   "source": [
    "print(vehicles[vehicles['paint_color'].isna() == True]['paint_color'].unique())"
   ]
  },
  {
   "attachments": {},
   "cell_type": "markdown",
   "metadata": {},
   "source": [
    "Note: there're no critical missing values. Nan values will not affect the calculations and analysis."
   ]
  },
  {
   "attachments": {},
   "cell_type": "markdown",
   "metadata": {},
   "source": [
    "#### 3 Findings"
   ]
  },
  {
   "attachments": {},
   "cell_type": "markdown",
   "metadata": {},
   "source": [
    "The dataset doesn't have duplicate entries and critical missing values. It can be used for further processing in the project."
   ]
  }
 ],
 "metadata": {
  "kernelspec": {
   "display_name": "base",
   "language": "python",
   "name": "python3"
  },
  "language_info": {
   "codemirror_mode": {
    "name": "ipython",
    "version": 3
   },
   "file_extension": ".py",
   "mimetype": "text/x-python",
   "name": "python",
   "nbconvert_exporter": "python",
   "pygments_lexer": "ipython3",
   "version": "3.9.13 (main, Aug 25 2022, 18:29:29) \n[Clang 12.0.0 ]"
  },
  "orig_nbformat": 4,
  "vscode": {
   "interpreter": {
    "hash": "701d4f28dcd0866722f5108a3a4cbcd08882d26398b6d44117e791d7b8102912"
   }
  }
 },
 "nbformat": 4,
 "nbformat_minor": 2
}
